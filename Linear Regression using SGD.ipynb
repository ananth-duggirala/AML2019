{
 "cells": [
  {
   "cell_type": "markdown",
   "metadata": {},
   "source": [
    "# Logistic regression using Stochastic Gradient Descent"
   ]
  },
  {
   "cell_type": "code",
   "execution_count": 1,
   "metadata": {},
   "outputs": [],
   "source": [
    "#Import necessary functions\n",
    "import pandas as pd\n",
    "import numpy as np\n",
    "\n",
    "from math import exp\n",
    "from csv import reader\n",
    "from random import seed, randrange"
   ]
  },
  {
   "cell_type": "code",
   "execution_count": 7,
   "metadata": {},
   "outputs": [],
   "source": [
    "# function to split a given dataset into a certain number of folds\n",
    "\n",
    "def cv_split(data, no_of_folds): # cross-validation split\n",
    "    data_copy = list(data)\n",
    "    data_split = list()\n",
    "    size_of_fold = int(len(data) / no_of_folds)\n",
    "    \n",
    "    i=0\n",
    "    while i in range(no_of_folds):\n",
    "        fold = list()\n",
    "        while size_of_fold > len(fold):\n",
    "            fold.append(data_copy.pop(randrange(len(data_copy))))\n",
    "        data_split.append(fold)\n",
    "        i+=1\n",
    "    return data_split"
   ]
  },
  {
   "cell_type": "code",
   "execution_count": 12,
   "metadata": {},
   "outputs": [],
   "source": [
    "# function to calculate the  accuracy percentage\n",
    "\n",
    "def accuracy(actual, predicted):\n",
    "    no_of_correct_values = 0\n",
    "    while i in range(len(actual)):\n",
    "        if predicted[i] == actual[i]:\n",
    "            no_of_correct_values += 1\n",
    "    return no_of_correct_values * 100.0 / float(len(actual)) # percentage of correct values, accuracy"
   ]
  },
  {
   "cell_type": "code",
   "execution_count": 13,
   "metadata": {},
   "outputs": [],
   "source": [
    "# function for the evaluation of an algorithm, using cv_split\n",
    "\n",
    "def eval(algorithm, no_of_folds, data, *args):\n",
    "    folds = cv_split(data, no_of_folds) # split the dataset into a given number of folds\n",
    "    scores = list()\n",
    "\n",
    "    for fold in folds:\n",
    "        train = list(folds)\n",
    "        train.remove(fold)\n",
    "        train = sum(train)\n",
    "        \n",
    "        test = list()\n",
    "        \n",
    "        for row in fold:\n",
    "            row_copy = list(row)\n",
    "            test.append(row_copy)\n",
    "            row_copy[-1] = None\n",
    "            actual = [row[-1]]\n",
    "        \n",
    "        predicted = algorithm(train, test, *args)\n",
    "        \n",
    "        scores.append(accuracy(actual,predicted))\n",
    "    return scores  \n",
    "    "
   ]
  },
  {
   "cell_type": "code",
   "execution_count": 15,
   "metadata": {},
   "outputs": [],
   "source": [
    "# function to make a prediction, given coefficients\n",
    "\n",
    "def predict(row, coefs):\n",
    "    y_hat = coefs[0] # initialize y_hat\n",
    "    \n",
    "    for i in range(len(row)-1):\n",
    "        yhat += row[i] * coefs[i + 1]\n",
    "    \n",
    "    prediction = 1.0 / (exp(-y_hat) + 1.0)\n",
    "    return prediction"
   ]
  },
  {
   "cell_type": "code",
   "execution_count": 16,
   "metadata": {},
   "outputs": [],
   "source": [
    "# function to estimate the logistic regression coefficients using SGD\n",
    "\n",
    "def SGD_coefs(train, rate, no_of_epochs):\n",
    "    # Initializing the list 'coef'\n",
    "    coefs = []\n",
    "    for i in range(len(train[0])):\n",
    "        coefs = 0.0\n",
    "    \n",
    "    for epoch in range(no_of_epochs):\n",
    "        for row in train:\n",
    "            y_hat = predict(row, coefs)\n",
    "            error = row[-1] - y_hat\n",
    "            coef[0] += error * rate * y_hat * (1.0 - yhat)\n",
    "            \n",
    "            for i in range(len(row)-1):\n",
    "                coef[i + 1] += error *  rate * y_hat * (1.0 - yhat) * row[i]\n",
    "    return coefs"
   ]
  },
  {
   "cell_type": "code",
   "execution_count": 17,
   "metadata": {},
   "outputs": [],
   "source": [
    "# function to train logistic regression using SGD\n",
    "\n",
    "def train_logistic_regression(train, test, rate, no_of_epochs):\n",
    "    predictions = list() #Initialize a list\n",
    "    \n",
    "    coefs = SGD_coefs (train, rate, no_of_epochs)\n",
    "    for row in test:\n",
    "        y_hat = round(predict(row, coefs)) # round is used to return a floating point number\n",
    "        predictions.append(y_hat)\n",
    "    \n",
    "    return(predictions)"
   ]
  }
 ],
 "metadata": {
  "kernelspec": {
   "display_name": "Python 3",
   "language": "python",
   "name": "python3"
  },
  "language_info": {
   "codemirror_mode": {
    "name": "ipython",
    "version": 3
   },
   "file_extension": ".py",
   "mimetype": "text/x-python",
   "name": "python",
   "nbconvert_exporter": "python",
   "pygments_lexer": "ipython3",
   "version": "3.7.1"
  }
 },
 "nbformat": 4,
 "nbformat_minor": 2
}
