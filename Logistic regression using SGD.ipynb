{
 "cells": [
  {
   "cell_type": "markdown",
   "metadata": {},
   "source": [
    "# Function to train logistic regression using Stochastic Gradient Descent"
   ]
  },
  {
   "cell_type": "code",
   "execution_count": 1,
   "metadata": {},
   "outputs": [],
   "source": [
    "# function to make a prediction, given coefficients\n",
    "\n",
    "from math import exp\n",
    "\n",
    "def predict(row, coefs):\n",
    "    y_hat = coefs[0] # initialize y_hat\n",
    "    \n",
    "    for i in range(len(row)-1):\n",
    "        y_hat += row[i] * coefs[i + 1]\n",
    "    \n",
    "    prediction = 1.0 / (exp( -y_hat) + 1.0)\n",
    "    return prediction"
   ]
  },
  {
   "cell_type": "code",
   "execution_count": 2,
   "metadata": {},
   "outputs": [],
   "source": [
    "# function to estimate the logistic regression coefficients using SGD\n",
    "\n",
    "def SGD_coefs(train, rate, no_of_epochs):\n",
    "    coefs = []\n",
    "    for i in range(len(train[0])):\n",
    "        coefs = 0.0\n",
    "    \n",
    "    for epoch in range(no_of_epochs):\n",
    "        for row in train:\n",
    "            y_hat = predict(row, coefs)\n",
    "            error = row[-1] - y_hat\n",
    "            coefs[0] += error * rate * y_hat * (1.0 - yhat)\n",
    "            \n",
    "            for i in range(len(row)-1):\n",
    "                coefs[i + 1] += error *  rate * y_hat * (1.0 - y_hat) * row[i]\n",
    "    return coefs"
   ]
  },
  {
   "cell_type": "code",
   "execution_count": 3,
   "metadata": {},
   "outputs": [],
   "source": [
    "# function to train logistic regression using SGD\n",
    "\n",
    "def train_logistic_regression(train, test, rate, no_of_epochs):\n",
    "    predictions = list() #Initialize a list\n",
    "    \n",
    "    coefs = SGD_coefs(train, rate, no_of_epochs)\n",
    "    for row in test:\n",
    "        y_hat = round(predict (row, coefs)) # round is used to return a floating point number\n",
    "        predictions.append(y_hat)\n",
    "    \n",
    "    return(predictions)"
   ]
  }
 ],
 "metadata": {
  "kernelspec": {
   "display_name": "Python 3",
   "language": "python",
   "name": "python3"
  },
  "language_info": {
   "codemirror_mode": {
    "name": "ipython",
    "version": 3
   },
   "file_extension": ".py",
   "mimetype": "text/x-python",
   "name": "python",
   "nbconvert_exporter": "python",
   "pygments_lexer": "ipython3",
   "version": "3.7.1"
  }
 },
 "nbformat": 4,
 "nbformat_minor": 2
}
